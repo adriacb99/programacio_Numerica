{
 "cells": [
  {
   "cell_type": "markdown",
   "metadata": {},
   "source": [
    "# S02 T04: Pràctica amb programació numèrica"
   ]
  },
  {
   "cell_type": "markdown",
   "metadata": {},
   "source": [
    "### Exercici 1\n",
    "Crea una funció que donat un Array d’una dimensió, et faci un resum estadístic bàsic de les dades. Si detecta que l’array té més d’una dimensió, ha de mostrar un missatge d’error."
   ]
  },
  {
   "cell_type": "code",
   "execution_count": null,
   "metadata": {},
   "outputs": [],
   "source": [
    "import numpy as np\n",
    "def resumArray(a):\n",
    "    print(\"Suma de los números del array\",a.sum())\n",
    "    print(\"Número más pequeño del array\",a.min())\n",
    "    print(\"Número más grande del array\",a.max(axis=0) )\n",
    "    print(\"Media\",a.mean() )\n",
    "    print(\"Desviación estandar\",np.std(a))\n",
    "\n",
    "x = input(\"Escribe un array de números: \")\n",
    "b = x.split()\n",
    "res = [int(i) for i in b]\n",
    "c = np.array(res)\n",
    "resumArray(c)\n"
   ]
  },
  {
   "cell_type": "markdown",
   "metadata": {},
   "source": [
    "### Exercici 2\n",
    "Crea una funció que et generi un quadrat NxN de nombres aleatoris entre el 0 i el 100."
   ]
  },
  {
   "cell_type": "code",
   "execution_count": 5,
   "metadata": {},
   "outputs": [
    {
     "name": "stdout",
     "output_type": "stream",
     "text": [
      "Escribe el tamaño de la matriz: 6\n",
      "[[93 94 62 39 94 17]\n",
      " [57 59 79 28 56  9]\n",
      " [81  2 44 48 85 64]\n",
      " [20 21 28 97 87 63]\n",
      " [40  2 76 69 49 75]\n",
      " [13 93 42 93  0 85]]\n"
     ]
    }
   ],
   "source": [
    "def randomMatrix(x):\n",
    "    a = np.random.randint(100, size=(x,x))\n",
    "    print(a)\n",
    "\n",
    "x = input(\"Escribe el tamaño de la matriz: \")\n",
    "b = int(x)\n",
    "randomMatrix(b)"
   ]
  },
  {
   "cell_type": "markdown",
   "metadata": {},
   "source": [
    "### Exercici 3\n",
    "Crea una funció que donada una taula de dues dimensions, et calculi els totals per fila i els totals per columna."
   ]
  },
  {
   "cell_type": "code",
   "execution_count": null,
   "metadata": {},
   "outputs": [],
   "source": [
    "x = input(\"Escribe el tamaño de la matriz: \")\n",
    "b = int(x)\n",
    "randomMatrix(b)\n",
    "\n",
    "for i in range(0, b):\n",
    "    for j in range(0, b):\n",
    "    "
   ]
  },
  {
   "cell_type": "markdown",
   "metadata": {},
   "source": [
    "### Exercici 4\n",
    "Implementa manualment una funció que calculi el coeficient de correlació. Informa’t-en sobre els seus usos i interpretació."
   ]
  },
  {
   "cell_type": "code",
   "execution_count": null,
   "metadata": {},
   "outputs": [],
   "source": []
  }
 ],
 "metadata": {
  "kernelspec": {
   "display_name": "Python 3",
   "language": "python",
   "name": "python3"
  },
  "language_info": {
   "codemirror_mode": {
    "name": "ipython",
    "version": 3
   },
   "file_extension": ".py",
   "mimetype": "text/x-python",
   "name": "python",
   "nbconvert_exporter": "python",
   "pygments_lexer": "ipython3",
   "version": "3.7.6"
  }
 },
 "nbformat": 4,
 "nbformat_minor": 4
}
